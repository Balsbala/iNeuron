{
 "cells": [
  {
   "cell_type": "markdown",
   "metadata": {},
   "source": [
    "### 1. Write a function to compute 5/0 and use try/except to catch the exceptions."
   ]
  },
  {
   "cell_type": "code",
   "execution_count": 27,
   "metadata": {},
   "outputs": [],
   "source": [
    "class mathOpertaion:\n",
    "    \n",
    "    def __init__(self, value1, value2):\n",
    "        self.value1 = value1\n",
    "        self.value2 = value2\n",
    "        \n",
    "    def addition(self):\n",
    "        try:\n",
    "            result = self.value1 + self.value2\n",
    "        except:\n",
    "            return 'Given Numbers are not numeric'\n",
    "        return \"Addition of {} and {} is {}\".format(self.value1, self.value2,result)\n",
    "    \n",
    "    def subraction(self):\n",
    "        try:\n",
    "            result = self.value1 - self.value2\n",
    "        except:\n",
    "            return 'Given Numbers are not numeric'\n",
    "        return \"Subraction of {} and {} is {}\".format(self.value1, self.value2,result)\n",
    "    \n",
    "    def multiplication(self):\n",
    "        try:\n",
    "            result = int(self.value1) * int(self.value2)\n",
    "        except:\n",
    "            return 'Given Numbers are not numeric'\n",
    "        return \"Multiplication of {} and {} is {}\".format(self.value1, self.value2,result)\n",
    "    \n",
    "    def division(self):\n",
    "        try:\n",
    "            result = int(self.value1) / int(self.value2)\n",
    "        except:\n",
    "            return 'Can not perform division opertion between {} and {}'.format(self.value1, self.value2)\n",
    "        return \"Multiplication of {} and {} is {}\".format(self.value1, self.value2,result)"
   ]
  },
  {
   "cell_type": "code",
   "execution_count": 31,
   "metadata": {},
   "outputs": [
    {
     "data": {
      "text/plain": [
       "'Can not perform division opertion between 5 and 0'"
      ]
     },
     "execution_count": 31,
     "metadata": {},
     "output_type": "execute_result"
    }
   ],
   "source": [
    " mathOpertaion(5,0).division()"
   ]
  },
  {
   "cell_type": "code",
   "execution_count": 32,
   "metadata": {},
   "outputs": [
    {
     "data": {
      "text/plain": [
       "'Multiplication of 10 and 0 is 0'"
      ]
     },
     "execution_count": 32,
     "metadata": {},
     "output_type": "execute_result"
    }
   ],
   "source": [
    "mathOpertaion(10,0).multiplication()"
   ]
  },
  {
   "cell_type": "code",
   "execution_count": 33,
   "metadata": {},
   "outputs": [
    {
     "data": {
      "text/plain": [
       "'Subraction of 13 and 100 is -87'"
      ]
     },
     "execution_count": 33,
     "metadata": {},
     "output_type": "execute_result"
    }
   ],
   "source": [
    "mathOpertaion(13,100).subraction()"
   ]
  },
  {
   "cell_type": "code",
   "execution_count": 34,
   "metadata": {},
   "outputs": [
    {
     "data": {
      "text/plain": [
       "'Addition of 130 and 123 is 253'"
      ]
     },
     "execution_count": 34,
     "metadata": {},
     "output_type": "execute_result"
    }
   ],
   "source": [
    "mathOpertaion(130,123).addition()"
   ]
  },
  {
   "cell_type": "markdown",
   "metadata": {},
   "source": [
    "### 2.Implement a Python program to generate all sentences where subject is in [\"Americans\", \"Indians\"] and verb is in [\"Play\", \"watch\"] and the object is in [\"Baseball\",\"cricket\"]. "
   ]
  },
  {
   "cell_type": "code",
   "execution_count": 40,
   "metadata": {},
   "outputs": [],
   "source": [
    "subjects=[\"Americans \",\"Indians\"]\n",
    "verbs=[\"play\",\"watch\"]\n",
    "objects=[\"Baseball\",\"Cricket\"]"
   ]
  },
  {
   "cell_type": "code",
   "execution_count": 45,
   "metadata": {},
   "outputs": [
    {
     "name": "stdout",
     "output_type": "stream",
     "text": [
      "Americans  play Baseball\n",
      "Americans  play Cricket\n",
      "Americans  watch Baseball\n",
      "Americans  watch Cricket\n",
      "Indians play Baseball\n",
      "Indians play Cricket\n",
      "Indians watch Baseball\n",
      "Indians watch Cricket\n",
      "Finished.......\n"
     ]
    }
   ],
   "source": [
    "try:\n",
    "    for sub in subjects:\n",
    "        for verb in verbs:\n",
    "            for object in objects:\n",
    "                print('{} {} {}'.format(sub,verb,object))\n",
    "except:\n",
    "    print(\"Opertion seems to be corrupt\")\n",
    "else:\n",
    "    print('Finished.......')"
   ]
  },
  {
   "cell_type": "code",
   "execution_count": null,
   "metadata": {},
   "outputs": [],
   "source": []
  }
 ],
 "metadata": {
  "kernelspec": {
   "display_name": "Python 3",
   "language": "python",
   "name": "python3"
  },
  "language_info": {
   "codemirror_mode": {
    "name": "ipython",
    "version": 3
   },
   "file_extension": ".py",
   "mimetype": "text/x-python",
   "name": "python",
   "nbconvert_exporter": "python",
   "pygments_lexer": "ipython3",
   "version": "3.7.1"
  }
 },
 "nbformat": 4,
 "nbformat_minor": 2
}
